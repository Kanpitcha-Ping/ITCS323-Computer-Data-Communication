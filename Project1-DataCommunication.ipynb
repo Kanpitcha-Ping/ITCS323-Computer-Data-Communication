{
 "cells": [
  {
   "cell_type": "code",
   "execution_count": 6,
   "metadata": {},
   "outputs": [],
   "source": [
    "import random\n",
    "import numpy as np\n",
    "import math"
   ]
  },
  {
   "cell_type": "code",
   "execution_count": 335,
   "metadata": {},
   "outputs": [],
   "source": [
    "# 1 Unreliable Transmission\n",
    "\n",
    "def unreliable_transmission(in_frame, p):\n",
    "    \n",
    "    \n",
    "    dt_bits = len(in_frame) # wordsize = 10\n",
    "    err_bits = int(dt_bits * p) # find num of err bit = 10*0.2 = 2\n",
    "    \n",
    "    out_frame = in_frame \n",
    "    \n",
    "    err_index = np.zeros((dt_bits), dtype=int) # [0,0,..] เอาไว้ mark ว่า position ไหนบ้างที่จะ err\n",
    "    \n",
    "    x = 0\n",
    "    while x < err_bits: # 2 loop \n",
    "        randindex = random.randint(0, (dt_bits - 1)) # find randomly position of err bit rand(0, 9) = 0 # preventing to err \n",
    "        if (err_index[randindex] == 0): # err[0] = 0 -> 1 mark \n",
    "            err_index[randindex] = 1\n",
    "            x += 1\n",
    "    \n",
    "    i = 0\n",
    "    while i < dt_bits: # size 10\n",
    "        # print(\"index[{}]: {} \".format(i, out_frame[i]))\n",
    "        if (err_index[i] == 1):  \n",
    "            # print(str((int(out_frame[i])+1)%2)) \n",
    "            out_frame = out_frame[:i] + str((int(out_frame[i])+1)%2) + out_frame[i+1:] # 0 => (0+1)%2 = 1 | 1 => (1+1)%2 = 0\n",
    "        i += 1\n",
    "        \n",
    "    print(\"p = {} and dataword size = {} \".format(p, len(in_frame)))\n",
    "    print(\"number of corrupted frame: {}*{} = {}\".format(p, len(in_frame), err_bits))\n",
    "    print(\"----------------------------------------------------------------------------\")\n",
    "    print(\"sent: \", in_frame)\n",
    "    print(\"received: {} with {} error\".format(out_frame, err_bits))\n",
    "            \n",
    "    # return out_frame\n",
    "    "
   ]
  },
  {
   "cell_type": "code",
   "execution_count": 336,
   "metadata": {},
   "outputs": [
    {
     "name": "stdout",
     "output_type": "stream",
     "text": [
      "p = 0.2 and dataword size = 10 \n",
      "number of corrupted frame: 0.2*10 = 2\n",
      "----------------------------------------------------------------------------\n",
      "sent:  1001110010\n",
      "received: 1011110011 with 2 error\n"
     ]
    }
   ],
   "source": [
    "unreliable_transmission('1001110010', 0.2)"
   ]
  },
  {
   "cell_type": "code",
   "execution_count": null,
   "metadata": {},
   "outputs": [],
   "source": []
  },
  {
   "cell_type": "code",
   "execution_count": 7,
   "metadata": {},
   "outputs": [],
   "source": [
    "# 2 Parity Bit\n",
    "\n",
    "# generate one dimession parity\n",
    "def parity_1D(dtw, pTyp):\n",
    "    cw = []\n",
    "    for x in dtw:\n",
    "        i = 0\n",
    "        pBit = x[i]\n",
    "        while i < len(x)-1:\n",
    "            if (pBit == x[i+1]):\n",
    "                pBit = '0'\n",
    "            else:\n",
    "                pBit = '1'\n",
    "            i += 1\n",
    "        if ((pBit == '0' and pTyp == 0) or (pBit == '1' and pTyp == 1)):\n",
    "            cw.append(x + '0')\n",
    "        else:\n",
    "            cw.append(x + '1')\n",
    "    return cw\n",
    "# ------------------------------------------------------------------------------------------------------------\n",
    "\n",
    "# fulfil some data which have size < word_size by '0' (e.g. word_size: 5, dataword: '110', output: '00110')\n",
    "def fulfilFrame(dtw, w_size):\n",
    "    # dtw = dataword input as the array\n",
    "    output = []\n",
    "    for x in dtw:\n",
    "        if (len(x) < w_size):\n",
    "            zero = '0'\n",
    "            x =  x.zfill(w_size)\n",
    "        output.append(x)\n",
    "    return output\n",
    "# ------------------------------------------------------------------------------------------------------------\n",
    "\n",
    "# parity generator\n",
    "def parity_gen(dataword, word_size, parity_type, arr_size):\n",
    "    \n",
    "    codeword = []\n",
    "    cw_col = ''\n",
    "    \n",
    "    if (parity_type == '1D-even'):\n",
    "        codeword = parity_1D(dataword, 0)\n",
    "        \n",
    "    elif (parity_type == '1D-odd'):\n",
    "        codeword = parity_1D(dataword, 1)\n",
    "        \n",
    "    elif (parity_type == '2D-even'):\n",
    "        codeword = fulfilFrame(dataword, word_size)\n",
    "        codeword = parity_1D(codeword, 0)\n",
    "        j = 0\n",
    "        while j < (word_size+1):\n",
    "            d = codeword[0]\n",
    "            pBit = d[j]\n",
    "            k = 0\n",
    "            while k < (arr_size-1):\n",
    "                dtw = codeword[k+1]\n",
    "                if (pBit == dtw[j]):\n",
    "                    pBit = '0'\n",
    "                else:\n",
    "                    pBit = '1'\n",
    "                k += 1\n",
    "                \n",
    "            if (pBit == '0'):\n",
    "                cw_col += '0' #even (adding '0')\n",
    "            else:\n",
    "                cw_col += '1' #odd (adding '1')\n",
    "                \n",
    "            j += 1\n",
    "        codeword.append(cw_col)\n",
    "    \n",
    "    elif (parity_type == '2D-odd'):\n",
    "        codeword = fulfilFrame(dataword, word_size)\n",
    "        codeword = parity_1D(codeword, 1)\n",
    "        j = 0\n",
    "        while j < (word_size+1):\n",
    "            d = codeword[0]\n",
    "            pBit = d[j]\n",
    "            k = 0\n",
    "            while k < (arr_size-1):\n",
    "                dtw = codeword[k+1]\n",
    "                if (pBit == dtw[j]):\n",
    "                    pBit = '0'\n",
    "                else:\n",
    "                    pBit = '1'\n",
    "                k += 1\n",
    "                \n",
    "            if (pBit == '0'):\n",
    "                cw_col += '1' #even (adding '1')\n",
    "            else:\n",
    "                cw_col += '0' #odd (adding '0')\n",
    "            j += 1\n",
    "        codeword.append(cw_col)\n",
    "          \n",
    "    else:\n",
    "        print('partity is undefined')\n",
    "        \n",
    "    return codeword\n",
    "# ------------------------------------------------------------------------------------------------------------\n",
    "\n",
    "# Parity Check\n",
    "def parity_check(codeword, parity_type, arr_size):\n",
    "    validity = 1 # Pass = 1, Fail = 0\n",
    "    pBit = ''\n",
    "    word_size = len(codeword[0])\n",
    "    \n",
    "    # check each row\n",
    "    for x in codeword:\n",
    "        i = 0\n",
    "        pBit = x[i]\n",
    "        while i < len(x)-1:\n",
    "            if (pBit == x[i+1]):\n",
    "                pBit = '0'\n",
    "            else:\n",
    "                pBit = '1'\n",
    "            i += 1\n",
    "        if ((pBit == '0' and (parity_type == '1D-odd' or parity_type == '2D-odd')) or (pBit == '1' and (parity_type == '1D-even' or parity_type == '2D-even'))):\n",
    "            return 0\n",
    "\n",
    "    # check each column        \n",
    "    if (parity_type == '2D-even' or parity_type == '2D-odd'):\n",
    "        j = 0\n",
    "        while j < word_size:\n",
    "            c = codeword[0]\n",
    "            pBit = c[j]\n",
    "            k = 0\n",
    "            while k < (arr_size-1):\n",
    "                cw = codeword[k+1]\n",
    "                if (pBit == cw[j]):\n",
    "                    pBit = '0'\n",
    "                else:\n",
    "                    pBit = '1'\n",
    "                k += 1\n",
    "            if ((pBit == '0' and parity_type == '2D-odd') or (pBit == '1' and parity_type == '2D-even')):\n",
    "                return 0\n",
    "            j += 1\n",
    "    \n",
    "    return validity\n",
    "# ------------------------------------------------------------------------------------------------------------"
   ]
  },
  {
   "cell_type": "code",
   "execution_count": 8,
   "metadata": {},
   "outputs": [
    {
     "data": {
      "text/plain": [
       "['101101', '00110', '10100']"
      ]
     },
     "execution_count": 8,
     "metadata": {},
     "output_type": "execute_result"
    }
   ],
   "source": [
    "dtw = np.array(['10110', '0011', '1010'])\n",
    "parity_gen(dtw, 5, '1D-even', 3)"
   ]
  },
  {
   "cell_type": "code",
   "execution_count": 12,
   "metadata": {},
   "outputs": [
    {
     "data": {
      "text/plain": [
       "['10101010', '01001101', '01010101', '10110010']"
      ]
     },
     "execution_count": 12,
     "metadata": {},
     "output_type": "execute_result"
    }
   ],
   "source": [
    "dtw = np.array(['1010101', '0100110', '0101010'])\n",
    "parity_gen(dtw, 7, '2D-even', 3)"
   ]
  },
  {
   "cell_type": "code",
   "execution_count": 9,
   "metadata": {},
   "outputs": [
    {
     "data": {
      "text/plain": [
       "['10101111']"
      ]
     },
     "execution_count": 9,
     "metadata": {},
     "output_type": "execute_result"
    }
   ],
   "source": [
    "dtw = np.array(['1010111'])\n",
    "parity_gen(dtw, 7, '1D-even', 3)"
   ]
  },
  {
   "cell_type": "code",
   "execution_count": 339,
   "metadata": {},
   "outputs": [
    {
     "data": {
      "text/plain": [
       "['101100', '00111', '10101']"
      ]
     },
     "execution_count": 339,
     "metadata": {},
     "output_type": "execute_result"
    }
   ],
   "source": [
    "parity_gen(dtw, 5, '1D-odd', 3)"
   ]
  },
  {
   "cell_type": "code",
   "execution_count": 340,
   "metadata": {},
   "outputs": [
    {
     "data": {
      "text/plain": [
       "['101110', '101011', '011101', '011000']"
      ]
     },
     "execution_count": 340,
     "metadata": {},
     "output_type": "execute_result"
    }
   ],
   "source": [
    "dtw_2d = np.array(['10111', '10101', '1110'])\n",
    "parity_gen(dtw_2d, 5, '2D-even', 3)"
   ]
  },
  {
   "cell_type": "code",
   "execution_count": 341,
   "metadata": {},
   "outputs": [
    {
     "data": {
      "text/plain": [
       "['101111', '101010', '011100', '100110']"
      ]
     },
     "execution_count": 341,
     "metadata": {},
     "output_type": "execute_result"
    }
   ],
   "source": [
    "parity_gen(dtw_2d, 5, '2D-odd', 3)"
   ]
  },
  {
   "cell_type": "code",
   "execution_count": 342,
   "metadata": {},
   "outputs": [
    {
     "data": {
      "text/plain": [
       "1"
      ]
     },
     "execution_count": 342,
     "metadata": {},
     "output_type": "execute_result"
    }
   ],
   "source": [
    "cw = ['101111', '101010', '011100', '100110'] # Pass: 1\n",
    "parity_check(cw, '1D-odd', 4)"
   ]
  },
  {
   "cell_type": "code",
   "execution_count": 343,
   "metadata": {},
   "outputs": [
    {
     "data": {
      "text/plain": [
       "0"
      ]
     },
     "execution_count": 343,
     "metadata": {},
     "output_type": "execute_result"
    }
   ],
   "source": [
    "parity_check(cw, '1D-even', 4) # Fail: 0"
   ]
  },
  {
   "cell_type": "code",
   "execution_count": 344,
   "metadata": {},
   "outputs": [
    {
     "data": {
      "text/plain": [
       "0"
      ]
     },
     "execution_count": 344,
     "metadata": {},
     "output_type": "execute_result"
    }
   ],
   "source": [
    "parity_check(cw, '1D-even', 4)"
   ]
  },
  {
   "cell_type": "code",
   "execution_count": 69,
   "metadata": {},
   "outputs": [
    {
     "data": {
      "text/plain": [
       "['11010010', '10010000', '11101101']"
      ]
     },
     "execution_count": 69,
     "metadata": {},
     "output_type": "execute_result"
    }
   ],
   "source": [
    "d = np.array(['1101001', '1001000', '1110110'])\n",
    "parity_gen(d, 7, '1D-even', 3)"
   ]
  },
  {
   "cell_type": "code",
   "execution_count": null,
   "metadata": {},
   "outputs": [],
   "source": []
  },
  {
   "cell_type": "code",
   "execution_count": 18,
   "metadata": {},
   "outputs": [],
   "source": [
    "# 3 CRC\n",
    "\n",
    "# xor of 2 binary numbers\n",
    "def XOR(d, s):\n",
    "    i = 0\n",
    "    rmd = ''\n",
    "    while i < len(d):\n",
    "        if (d[i] == s[i]):\n",
    "            rmd = rmd + '0'\n",
    "        else:\n",
    "            rmd = rmd + '1'\n",
    "        i += 1 \n",
    "    return rmd[1:] # e.g.rmd = '0110', only need '110'\n",
    "# ------------------------------------------------------------------------------------------------------------\n",
    "\n",
    "# modulo-2 Division\n",
    "def mod2div(dividend, divisor): # '101101100000'/'11111'  => 10110/11111 = 01001 (xor)\n",
    "    p = len(divisor)            # ' 10011'/'11111' => 01100\n",
    "    \n",
    "    # zero divisor # 01110 / 00000 = 10001 \n",
    "    zerodiv = '0'\n",
    "    zerodiv = zerodiv.zfill(p) \n",
    "    \n",
    "    sel_dividend = dividend[:(p)] # e.g. '110100'/'1001' => first sel_dividend = '1101'\n",
    "    \n",
    "    while p <= len(dividend):\n",
    "        if (sel_dividend[0] == '1'):\n",
    "            # print(\"p{}: {} xor {} = {}\".format(p, sel_dividend, divisor, XOR(sel_dividend, divisor)))\n",
    "            sel_dividend = XOR(sel_dividend, divisor)\n",
    "            if (p != len(dividend)): \n",
    "                sel_dividend = sel_dividend + dividend[p]\n",
    "        else:\n",
    "            # print(\"p{}: {} xor {} = {}\".format(p, sel_divdend, zerodiv, XOR(sel_divdend, zerodiv)))\n",
    "            sel_dividend = XOR(sel_dividend, zerodiv) \n",
    "            if (p != len(dividend)): \n",
    "                sel_dividend = sel_dividend + dividend[p]    \n",
    "        p += 1\n",
    "    \n",
    "    return sel_dividend\n",
    "# ------------------------------------------------------------------------------------------------------------\n",
    "\n",
    "# CRC Generator\n",
    "def CRC_gen(dataword, word_size, CRC_type):\n",
    "    \n",
    "    divisors = ['11111', '111010101', '10100000000000011', '11000000000000101', '1100000000101000100000001', '100000100110000010001110110110111']\n",
    "    dvs = '10101'\n",
    "    \n",
    "    extraBits = '0' \n",
    "    extraBits = extraBits.zfill(len(dvs)-1) # input dataword '10110110' => divisor '11111' dividend => '101101100000'\n",
    "    \n",
    "    dtw = dataword + extraBits\n",
    "    # print(dtw)\n",
    "    \n",
    "    remainder = mod2div(dtw, dvs)\n",
    "    print(remainder)\n",
    "        \n",
    "    return dataword+remainder\n",
    "# ------------------------------------------------------------------------------------------------------------\n",
    "\n",
    "# CRC Checker\n",
    "def CRC_check(codeword, CRC_type):\n",
    "    \n",
    "    # divisors = [CRC-4, CRC-8, Reversed CRC-16, CRC-16, CRC-24, CRC-32]\n",
    "    divisors = ['11111', '111010101', '10100000000000011', '11000000000000101', '1100000000101000100000001', '100000100110000010001110110110111']\n",
    "    dvs = divisors[CRC_type]\n",
    "    \n",
    "    remainder = mod2div(codeword, dvs)\n",
    "    # print(remainder) int('000000', 2) = 0 cast binary to integer\n",
    "    if (int(remainder, 2) == 0):\n",
    "        return 1 # Pass (no error)\n",
    "    else:\n",
    "        return 0 # Fail (error occur)\n",
    "# ------------------------------------------------------------------------------------------------------------"
   ]
  },
  {
   "cell_type": "code",
   "execution_count": 19,
   "metadata": {},
   "outputs": [
    {
     "name": "stdout",
     "output_type": "stream",
     "text": [
      "1111\n"
     ]
    },
    {
     "data": {
      "text/plain": [
       "'101010111111'"
      ]
     },
     "execution_count": 19,
     "metadata": {},
     "output_type": "execute_result"
    }
   ],
   "source": [
    "CRC_gen('10101011', 8, 0)"
   ]
  },
  {
   "cell_type": "code",
   "execution_count": 349,
   "metadata": {},
   "outputs": [
    {
     "data": {
      "text/plain": [
       "1"
      ]
     },
     "execution_count": 349,
     "metadata": {},
     "output_type": "execute_result"
    }
   ],
   "source": [
    "CRC_check('1001001101', 0)"
   ]
  },
  {
   "cell_type": "code",
   "execution_count": null,
   "metadata": {},
   "outputs": [],
   "source": []
  },
  {
   "cell_type": "code",
   "execution_count": 1,
   "metadata": {},
   "outputs": [],
   "source": [
    "# 4 Checksum\n",
    "\n",
    "# sum of 2 binary numbers\n",
    "def sumBin(bin1, bin2):\n",
    "    out =  bin(int(bin1, 2) + int(bin2, 2))\n",
    "    return out[2:]   \n",
    "# ------------------------------------------------------------------------------------------------------------\n",
    "\n",
    "# find one's complement of an input binary number\n",
    "def complement(bin):\n",
    "    out = bin\n",
    "    i = 0  \n",
    "    while i < len(bin):\n",
    "        # print(\"{} {} => {} {}\".format(out, out[i], out[:i], out[i+1:]))\n",
    "        out = out[:i] + str((int(out[i])+1)%2) + out[i+1:]\n",
    "        i += 1\n",
    "    return out\n",
    "# ------------------------------------------------------------------------------------------------------------\n",
    "\n",
    "# Checksum Generator\n",
    "def Checksum_gen(dataword, word_size, num_blocks): #3 block dataword \n",
    "    i = 0\n",
    "    sum_ = dataword[0]\n",
    "    codeword = dataword\n",
    "    while i < num_blocks-1:\n",
    "        sum_ = sumBin(sum_, dataword[i+1])\n",
    "        if (len(sum_) > word_size):\n",
    "            #print(\"{} => {} + {} \".format(sum_, sum_[len(sum_)-word_size:word_size+1], sum_[:len(sum_)-word_size]))\n",
    "            sum_ = sumBin(sum_[:len(sum_)-word_size], sum_[len(sum_)-word_size:word_size+1])\n",
    "        i += 1\n",
    "    if (len(sum_) < word_size): \n",
    "        for i in range((word_size-len(sum_))):\n",
    "                sum_ = '0' + sum_\n",
    "                \n",
    "    codeword.append(complement(sum_))\n",
    "    return codeword\n",
    "# ------------------------------------------------------------------------------------------------------------        \n",
    "\n",
    "# Checksum Checker\n",
    "def Checksum_check(codeword, word_size, num_blocks): # 4 block = 0000 no err \n",
    "    i = 0\n",
    "    sum_cw = codeword[0]\n",
    "    while i < num_blocks:\n",
    "        sum_cw = sumBin(sum_cw, codeword[i+1])\n",
    "        if (len(sum_cw) > word_size):\n",
    "            sum_cw = sumBin(sum_cw[:len(sum_cw)-word_size], sum_cw[len(sum_cw)-word_size:word_size+1])\n",
    "        i += 1\n",
    "        \n",
    "    if (len(sum_cw) < word_size): \n",
    "        for i in range((word_size-len(sum_cw))):\n",
    "                sum_cw = '0' + sum_cw\n",
    "                \n",
    "    if (int(complement(sum_cw), 2) == 0):\n",
    "        return 1\n",
    "    else:\n",
    "        return 0\n",
    "# ------------------------------------------------------------------------------------------------------------"
   ]
  },
  {
   "cell_type": "code",
   "execution_count": 2,
   "metadata": {},
   "outputs": [
    {
     "data": {
      "text/plain": [
       "['1011', '0011', '1010', '0110']"
      ]
     },
     "execution_count": 2,
     "metadata": {},
     "output_type": "execute_result"
    }
   ],
   "source": [
    "dtw = ['1011', '0011', '1010']\n",
    "Checksum_gen(dtw, 4, 3)"
   ]
  },
  {
   "cell_type": "code",
   "execution_count": 351,
   "metadata": {},
   "outputs": [
    {
     "data": {
      "text/plain": [
       "['10011001', '11100010', '00100100', '10000100', '11011010']"
      ]
     },
     "execution_count": 351,
     "metadata": {},
     "output_type": "execute_result"
    }
   ],
   "source": [
    "dtw = ['10011001', '11100010', '00100100', '10000100']\n",
    "Checksum_gen(dtw, 8, 4)"
   ]
  },
  {
   "cell_type": "code",
   "execution_count": 352,
   "metadata": {},
   "outputs": [
    {
     "data": {
      "text/plain": [
       "['01111', '10111', '11000', '01101', '10010']"
      ]
     },
     "execution_count": 352,
     "metadata": {},
     "output_type": "execute_result"
    }
   ],
   "source": [
    "dtw = ['01111', '10111', '11000', '01101']\n",
    "Checksum_gen(dtw, 5, 4)"
   ]
  },
  {
   "cell_type": "code",
   "execution_count": 353,
   "metadata": {},
   "outputs": [
    {
     "data": {
      "text/plain": [
       "1"
      ]
     },
     "execution_count": 353,
     "metadata": {},
     "output_type": "execute_result"
    }
   ],
   "source": [
    "cw = ['01111', '10111', '11000', '01101', '10010'] # no error bit\n",
    "cw_err = ['11111', '10111', '11000', '01101', '10010'] # 1 error bit\n",
    "Checksum_check(cw, 5, 4)"
   ]
  },
  {
   "cell_type": "code",
   "execution_count": 354,
   "metadata": {},
   "outputs": [
    {
     "data": {
      "text/plain": [
       "['00110111', '10101010', '00011110']"
      ]
     },
     "execution_count": 354,
     "metadata": {},
     "output_type": "execute_result"
    }
   ],
   "source": [
    "Checksum_gen(['00110111', '10101010'],  8, 2)"
   ]
  },
  {
   "cell_type": "code",
   "execution_count": null,
   "metadata": {},
   "outputs": [],
   "source": []
  },
  {
   "cell_type": "code",
   "execution_count": 10,
   "metadata": {},
   "outputs": [],
   "source": [
    "# 5 Hamming Code\n",
    "\n",
    "# return xor of 2 bits\n",
    "def xor(bit1, bit2):\n",
    "    if (bit1 == bit2):\n",
    "        return '0'\n",
    "    else:\n",
    "        return '1'\n",
    "# ------------------------------------------------------------------------------------------------------------        \n",
    "\n",
    "# Hammin Code Generator\n",
    "def Hamming_gen(dataword):\n",
    "    \n",
    "    codeword = dataword[::-1]\n",
    "    \n",
    "    # find number of parity bits\n",
    "    numPBits = math.ceil(math.log(len(dataword), 2))\n",
    "    if (len(dataword) > ((2**numPBits)-numPBits-1)): # 2^m - m - 1\n",
    "        numPBits += 1\n",
    "        \n",
    "    x = 0  \n",
    "    k = 0\n",
    "    # add parity bits into codeword\n",
    "    while x < numPBits:\n",
    "        # print(\"{} {} => {} {}\".format(out, out[i], out[:i], out[i+1:]))\n",
    "        codeword = codeword[:k] + '0' + codeword[k:]\n",
    "        k += pow(2, x) \n",
    "        x += 1\n",
    "    \n",
    "    # find each parity bit\n",
    "    i = 0\n",
    "    seq = np.ones(numPBits, dtype=int)*(-1)\n",
    "    while i < len(codeword):\n",
    "        j = 0\n",
    "        # print(\"index {} ({})\".format(i+1, i))\n",
    "        while j < numPBits:\n",
    "            if ((i+1)%(pow(2, j)) == 0 and seq[j] == -1): # first digit that cover\n",
    "                #print(\"  PBit {}: \".format(pow(2, j)))\n",
    "                seq[j] = 1\n",
    "                currentBit = codeword[i]\n",
    "                codeword = codeword[:pow(2, j)-1] + xor(codeword[pow(2, j)-1], currentBit) + codeword[pow(2, j):]\n",
    "\n",
    "            elif (seq[j] < pow(2, j) and seq[j] > -1): # every parity bit (e.g.p2 => 2 bit will be calculated by xor)\n",
    "                #print(\"  PBit {}: \".format(pow(2, j)))\n",
    "                seq[j] += 1\n",
    "                currentBit = codeword[i]\n",
    "                #print(\"  {} xor {} = {}\".format(currentBit, codeword[pow(2, j)-1], xor(codeword[pow(2, j)-1], currentBit)))\n",
    "                codeword = codeword[:pow(2, j)-1] + xor(codeword[pow(2, j)-1], currentBit) + codeword[pow(2, j):]\n",
    "                    \n",
    "            elif (seq[j] >= pow(2, j) and seq[j] < 2*pow(2, j)-1):\n",
    "                seq[j] += 1\n",
    "                    \n",
    "            elif (seq[j] == 2*pow(2, j)-1):\n",
    "                seq[j] = 0\n",
    "            j += 1\n",
    "        # print(\"--------------------------------------------\")\n",
    "        i += 1\n",
    "            \n",
    "    return codeword[::-1]\n",
    "# ------------------------------------------------------------------------------------------------------------\n",
    "\n",
    "# Hamming Code Checker\n",
    "def Hamming_check(in_codeword):\n",
    "    err_position = ''\n",
    "    \n",
    "    codeword = in_codeword[::-1]\n",
    "    \n",
    "    # find number of parity bits\n",
    "    numPBits = math.ceil(math.log(len(in_codeword), 2))\n",
    "    if (len(in_codeword) > ((2**numPBits)-1)): # 2^m - 1\n",
    "        numPBits += 1\n",
    "    \n",
    "    i = 0\n",
    "    bit = np.zeros(numPBits, dtype=int)\n",
    "    while i < numPBits:\n",
    "        j = pow(2, i) - 1 \n",
    "        count = 0\n",
    "        while j < len(codeword):\n",
    "            if (count == 0 or count < pow(2, i)): # (0-3)\n",
    "                #print(\"  {} xor {} = {}\".format(bit[i], codeword[j], xor(str(bit[i]), codeword[j])))\n",
    "                bit[i] = xor(str(bit[i]), codeword[j])\n",
    "                #print(bit[i])\n",
    "                count += 1\n",
    "                j += 1\n",
    "            else:\n",
    "                count = 0\n",
    "                j += pow(2, i)\n",
    "        err_position = str(bit[i]) + err_position\n",
    "        i += 1\n",
    "    \n",
    "    if (int(err_position, 2) == 0):\n",
    "        return -1 # remainder is not non-zeros = no error\n",
    "    else:\n",
    "        print(\"{} '{}' {}\".format(in_codeword[:len(in_codeword)-int(err_position, 2)], in_codeword[int(err_position, 2)-1], in_codeword[len(in_codeword)-int(err_position, 2)+1:]))\n",
    "        print(\"location of error is \", int(err_position, 2))\n",
    "    \n",
    "    # return int(err_position, 2)\n",
    "# ------------------------------------------------------------------------------------------------------------"
   ]
  },
  {
   "cell_type": "code",
   "execution_count": 356,
   "metadata": {
    "scrolled": true
   },
   "outputs": [
    {
     "data": {
      "text/plain": [
       "-1"
      ]
     },
     "execution_count": 356,
     "metadata": {},
     "output_type": "execute_result"
    }
   ],
   "source": [
    "Hamming_check('10011100101') # no error"
   ]
  },
  {
   "cell_type": "code",
   "execution_count": 11,
   "metadata": {
    "scrolled": false
   },
   "outputs": [
    {
     "data": {
      "text/plain": [
       "'11110000111'"
      ]
     },
     "execution_count": 11,
     "metadata": {},
     "output_type": "execute_result"
    }
   ],
   "source": [
    "Hamming_gen('1110001')"
   ]
  },
  {
   "cell_type": "code",
   "execution_count": 358,
   "metadata": {},
   "outputs": [
    {
     "data": {
      "text/plain": [
       "'100111000101111'"
      ]
     },
     "execution_count": 358,
     "metadata": {},
     "output_type": "execute_result"
    }
   ],
   "source": [
    "Hamming_gen('10011100101')"
   ]
  },
  {
   "cell_type": "code",
   "execution_count": 4,
   "metadata": {},
   "outputs": [
    {
     "name": "stdout",
     "output_type": "stream",
     "text": [
      "10011100010 '1' 111\n",
      "location of error is  4\n"
     ]
    }
   ],
   "source": [
    "Hamming_check('100111000100111')"
   ]
  },
  {
   "cell_type": "code",
   "execution_count": null,
   "metadata": {},
   "outputs": [],
   "source": []
  }
 ],
 "metadata": {
  "kernelspec": {
   "display_name": "Python 3",
   "language": "python",
   "name": "python3"
  },
  "language_info": {
   "codemirror_mode": {
    "name": "ipython",
    "version": 3
   },
   "file_extension": ".py",
   "mimetype": "text/x-python",
   "name": "python",
   "nbconvert_exporter": "python",
   "pygments_lexer": "ipython3",
   "version": "3.8.3"
  }
 },
 "nbformat": 4,
 "nbformat_minor": 4
}
